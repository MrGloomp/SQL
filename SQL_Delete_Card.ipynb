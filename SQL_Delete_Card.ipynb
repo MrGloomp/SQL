{
 "cells": [
  {
   "cell_type": "code",
   "execution_count": null,
   "id": "e6c1009c",
   "metadata": {},
   "outputs": [],
   "source": [
    "#Delete a Specific CARD and all of its associated transactions\n",
    "\n",
    "import pyodbc\n",
    "\n",
    "def card_del():\n",
    "    conn = pyodbc.connect (\"Driver = {SQL Server};\"\n",
    "                          \"Server=-;\"\n",
    "                          \"Database=DB142;\"\n",
    "                          \"Authentication=DB;\"\n",
    "                          \"user=-;\"\n",
    "                          \"password=-;\")\n",
    "    print('Insert a Card Number')\n",
    "    num=input()\n",
    "    cursor = conn.cursor()\n",
    "    cursor.execute(\n",
    "                  'DELETE FROM Transac as T WHERE T.CardID = {}'.format(num),\n",
    "                  'DELETE FROM Payment as P WHERE P.CardID = {}'.format(num),\n",
    "                  'DELETE FROM Card as Ca WHERE Ca.CardID = {}'.format(num)\n",
    "                  )\n",
    "\n",
    "    for row in cursor:\n",
    "        print(row)"
   ]
  }
 ],
 "metadata": {
  "kernelspec": {
   "display_name": "Python 3 (ipykernel)",
   "language": "python",
   "name": "python3"
  },
  "language_info": {
   "codemirror_mode": {
    "name": "ipython",
    "version": 3
   },
   "file_extension": ".py",
   "mimetype": "text/x-python",
   "name": "python",
   "nbconvert_exporter": "python",
   "pygments_lexer": "ipython3",
   "version": "3.10.9"
  }
 },
 "nbformat": 4,
 "nbformat_minor": 5
}
